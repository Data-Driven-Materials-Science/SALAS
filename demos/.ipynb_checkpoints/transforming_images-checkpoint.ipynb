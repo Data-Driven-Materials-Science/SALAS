{
 "cells": [
  {
   "cell_type": "markdown",
   "metadata": {},
   "source": [
    "# Importing Dependencies\n",
    "\n",
    "### Instance Segmentation of Powder Particles and Satellites\n",
    "\n",
    "This example is used to generate a visualization of an individual image\n"
   ]
  },
  {
   "cell_type": "code",
   "execution_count": 25,
   "metadata": {},
   "outputs": [],
   "source": [
    "## regular module imports\n",
    "import cv2\n",
    "import json\n",
    "import matplotlib.pyplot as plt\n",
    "import numpy as np\n",
    "import os\n",
    "from pathlib import Path\n",
    "import pickle\n",
    "import skimage.io\n",
    "import sys\n",
    "\n",
    "## detectron2\n",
    "from detectron2 import model_zoo\n",
    "from detectron2.config import get_cfg\n",
    "from detectron2.data import (\n",
    "    DatasetCatalog,\n",
    "    MetadataCatalog,\n",
    ")\n",
    "from detectron2.engine import DefaultTrainer, DefaultPredictor\n",
    "from detectron2.structures import BoxMode\n",
    "#from detectron2.evaluation import coco_evaluation\n",
    "from detectron2.data.datasets.coco import convert_to_coco_json\n",
    "from detectron2.evaluation.coco_evaluation import instances_to_coco_json\n",
    "from detectron2.utils.visualizer import GenericMask\n",
    "import pycocotools.mask as mask_util\n",
    "from skimage import measure\n",
    "from imantics import Polygons, Mask\n",
    "from PIL import ImageEnhance, Image\n",
    "\n"
   ]
  },
  {
   "cell_type": "markdown",
   "metadata": {},
   "source": [
    "## Setting System Path"
   ]
  },
  {
   "cell_type": "code",
   "execution_count": 2,
   "metadata": {},
   "outputs": [],
   "source": [
    "## ampis\n",
    "root = '../../../'\n",
    "sys.path.append(root)\n",
    "from ampis import data_utils, visualize, export_anno\n",
    "EXPERIMENT_NAME = 'satellite' # can be 'particles' or 'satellite'"
   ]
  },
  {
   "cell_type": "markdown",
   "metadata": {},
   "source": [
    "### Methods to create a new directory, geometrically augment an image or photometrically augment an image\n"
   ]
  },
  {
   "cell_type": "code",
   "execution_count": 29,
   "metadata": {},
   "outputs": [
    {
     "name": "stdout",
     "output_type": "stream",
     "text": [
      "\n"
     ]
    }
   ],
   "source": [
    "def create_dir(d):\n",
    "    if not os.path.exists(d):\n",
    "        os.makedirs(d)\n",
    "        print(\"Created Directory : \", d)\n",
    "    else:\n",
    "        print(\"Directory already existed : \", d)\n",
    "    return dir\n",
    "\n",
    "def flip_and_save(name, horizontally, vertically, in_dir, out_dir, save=True):\n",
    "    new_name = name\n",
    "    img_path = Path(in_dir, name +'.png')\n",
    "    img = cv2.imread(str(img_path))\n",
    "    if horizontally:\n",
    "        new_name += 'X'\n",
    "        img = cv2.flip(img, 1)\n",
    "    if vertically:\n",
    "        new_name += 'Y'\n",
    "        img = cv2.flip(img, 0)\n",
    "    new_img_path = Path(out_dir, new_name +'.png')\n",
    "    if save:\n",
    "        cv2.imwrite(str(new_img_path), img)\n",
    "    return new_name\n",
    "print('')\n",
    "\n",
    "def color_and_save(name, transformation, in_dir, out_dir,):\n",
    "    #transformation: 0-1 = darker, 1 = no change, 1+ = lighter\n",
    "    im = Image.open(in_dir + '/' + name + '.png')\n",
    "    enhancer = ImageEnhance.Brightness(im)\n",
    "    factor = transformation\n",
    "    im_output = enhancer.enhance(factor)\n",
    "    name_change = name\n",
    "    if factor < 1:\n",
    "        name_change += 'd'\n",
    "    elif factor > 1: \n",
    "        name_change += 'b'\n",
    "    else:\n",
    "        name_change += 's'\n",
    "    im_output.save(out_dir +  '/' +name_change + '.png')\n",
    "\n",
    "    "
   ]
  },
  {
   "cell_type": "markdown",
   "metadata": {},
   "source": [
    "# Transformations\n",
    "The following methods either transform an image geometrically by rotating or mirroring it, or photometrically by adjusting the brightness. These methods transform all images in a directory, see below if you would like to do a transformation on a single image. Depending on which block you run, a directory can either be geometrically or photometrically altered, or both. "
   ]
  },
  {
   "cell_type": "markdown",
   "metadata": {},
   "source": [
    "## Geometric Transformations Only\n",
    "Simply establish the directory file path in \"files\" to find the images, and then establish the directory to save the new images to. \n",
    "Make sure there are only images in this directory, or the \"geometric\" or \"photometric\" folders. \n"
   ]
  },
  {
   "cell_type": "code",
   "execution_count": 23,
   "metadata": {},
   "outputs": [
    {
     "name": "stdout",
     "output_type": "stream",
     "text": [
      "Created Directory :  250x_geo\n",
      "transforming: HP743_10S_250x\n",
      "transforming: HP743_9S_250x\n",
      "transforming: HP743_8S_250x\n",
      "transforming: HP743_5S_250x\n",
      "transforming: HP743_4S_250x\n",
      "transforming: HP743_3S_250x\n",
      "transforming: HP743_7S_250x\n",
      "transforming: HP743_2S_250x\n",
      "transforming: HP743_1S_250x\n",
      "transforming: HP743_6S_250x\n",
      "transforming: HP743_12S_250x\n",
      "transforming: HP743_11S_250x\n"
     ]
    }
   ],
   "source": [
    "IMPORT_DIR = '250x'          #Location where images are currently stored\n",
    "EXPORT_DIR = '250x_geo'      #Location where augmented images should be stored\n",
    "\n",
    "files = os.listdir(IMPORT_DIR) #Loading in image names\n",
    "create_dir(EXPORT_DIR)         #Creating directory for new images if not yet created\n",
    "img_names = []\n",
    "for f in files:\n",
    "    if f.split('.')[0] != 'geometric' and f.split('.')[0] != 'photometric': #Seperates generated folders from images to transform\n",
    "        img_names.append(f.split('.')[0]) #Removes .png formatting to just have a list of the image names\n",
    "    \n",
    "for f in img_names: #Loops through every image and transforms\n",
    "    if f != '': #Error handling to make sure not empty\n",
    "        print(\"transforming: \" + f)\n",
    "        flip_and_save(f, True, True, IMPORT_DIR, EXPORT_DIR, save=True) #Mirrors Across Horizontal and Vertical Axis\n",
    "        flip_and_save(f, False, True,IMPORT_DIR, EXPORT_DIR, save=True ) #Mirrors Across Vertical Axis\n",
    "        flip_and_save(f, True, False, IMPORT_DIR, EXPORT_DIR, save=True) #Mirrors Across Horizontal Axis\n",
    "        flip_and_save(f, False, False, IMPORT_DIR, EXPORT_DIR, save=True) #Non-Augmented"
   ]
  },
  {
   "cell_type": "markdown",
   "metadata": {},
   "source": [
    "## Photometric Transformations Only\n",
    "Simply establish the directory file path in \"files\" to find the images, and then establish the directory to save the new images to\n",
    "To modify how bright or dark the images are being transformed, simply adjust the final number in color_and_save(). 1 is unchanged. Anything less than 1 is darker and anything greater than 1 is brighter"
   ]
  },
  {
   "cell_type": "code",
   "execution_count": 30,
   "metadata": {},
   "outputs": [
    {
     "name": "stdout",
     "output_type": "stream",
     "text": [
      "Directory already existed :  250x_photo\n",
      "transforming: HP743_10S_250x\n",
      "transforming: HP743_9S_250x\n",
      "transforming: HP743_8S_250x\n",
      "transforming: HP743_5S_250x\n",
      "transforming: HP743_4S_250x\n",
      "transforming: HP743_3S_250x\n",
      "transforming: HP743_7S_250x\n",
      "transforming: HP743_2S_250x\n",
      "transforming: HP743_1S_250x\n",
      "transforming: HP743_6S_250x\n",
      "transforming: HP743_12S_250x\n",
      "transforming: HP743_11S_250x\n"
     ]
    }
   ],
   "source": [
    "IMPORT_DIR = '250x'          #Location where images are currently stored\n",
    "EXPORT_DIR = '250x_photo'    #Location where augmented images should be stored\n",
    "MIN_BRIGHTNESS = 0.6         #Brightness of darkened image\n",
    "MAX_BRIGHTNESS = 1.4         #Brightness of lightened image\n",
    "\n",
    "\n",
    "files = os.listdir(IMPORT_DIR) #Loading in image names\n",
    "create_dir(EXPORT_DIR)         #Creating directory for new images if not yet created\n",
    "img_names = []\n",
    "for f in files:\n",
    "    if f.split('.')[0] != 'geometric' and f.split('.')[0] != 'photometric': #Seperates generated folders from images to transform\n",
    "        img_names.append(f.split('.')[0]) #Removes .png formatting to just have a list of the image names\n",
    "\n",
    "for f in img_names:\n",
    "    if f != '':\n",
    "        print(\"transforming: \" + f)\n",
    "        color_and_save(f, MIN_BRIGHTNESS, IMPORT_DIR, EXPORT_DIR)\n",
    "        color_and_save(f, 1, IMPORT_DIR, EXPORT_DIR)\n",
    "        color_and_save(f, MAX_BRIGHTNESS, IMPORT_DIR, EXPORT_DIR)"
   ]
  },
  {
   "cell_type": "markdown",
   "metadata": {},
   "source": [
    "## Geometric and Photometric Transformations \n"
   ]
  },
  {
   "cell_type": "markdown",
   "metadata": {},
   "source": [
    "### Setting Constants\n",
    "Set the import and export directory as well as the target brightness of darkened and brighteneds images"
   ]
  },
  {
   "cell_type": "code",
   "execution_count": 31,
   "metadata": {},
   "outputs": [],
   "source": [
    "IMPORT_DIR = '250x'                #Location where images are currently stored\n",
    "EXPORT_DIR = '250x_photo-geo'      #Location where augmented images should be stored\n",
    "MIN_BRIGHTNESS = 0.6               #Brightness of darkened image\n",
    "MAX_BRIGHTNESS = 1.4               #Brightness of lightened image"
   ]
  },
  {
   "cell_type": "markdown",
   "metadata": {},
   "source": [
    "### Performing Transformations"
   ]
  },
  {
   "cell_type": "code",
   "execution_count": 42,
   "metadata": {
    "scrolled": true
   },
   "outputs": [
    {
     "name": "stdout",
     "output_type": "stream",
     "text": [
      "Created Directory :  250x_photo-geo\n",
      "Created Directory :  temp\n",
      "transforming: HP743_10S_250x\n",
      "transforming: HP743_9S_250x\n",
      "transforming: HP743_8S_250x\n",
      "transforming: HP743_5S_250x\n",
      "transforming: HP743_4S_250x\n",
      "transforming: HP743_3S_250x\n",
      "transforming: HP743_7S_250x\n",
      "transforming: HP743_2S_250x\n",
      "transforming: HP743_1S_250x\n",
      "transforming: HP743_6S_250x\n",
      "transforming: HP743_12S_250x\n",
      "transforming: HP743_11S_250x\n",
      "transforming: HP743_8S_250xX\n",
      "transforming: HP743_7S_250xXY\n",
      "transforming: HP743_2S_250xY\n",
      "transforming: HP743_3S_250xXY\n",
      "transforming: HP743_10S_250x\n",
      "transforming: HP743_8S_250xXY\n",
      "transforming: HP743_9S_250x\n",
      "transforming: HP743_5S_250xY\n",
      "transforming: HP743_10S_250xX\n",
      "transforming: HP743_8S_250x\n",
      "transforming: HP743_5S_250x\n",
      "transforming: HP743_3S_250xY\n",
      "transforming: HP743_9S_250xY\n",
      "transforming: HP743_6S_250xY\n",
      "transforming: HP743_5S_250xXY\n",
      "transforming: HP743_4S_250xXY\n",
      "transforming: HP743_4S_250x\n",
      "transforming: HP743_9S_250xX\n",
      "transforming: HP743_9S_250xXY\n",
      "transforming: HP743_2S_250xX\n",
      "transforming: HP743_7S_250xX\n",
      "transforming: HP743_3S_250x\n",
      "transforming: HP743_11S_250xY\n",
      "transforming: HP743_5S_250xX\n",
      "transforming: HP743_10S_250xXY\n",
      "transforming: HP743_1S_250xXY\n",
      "transforming: HP743_4S_250xX\n",
      "transforming: HP743_10S_250xY\n",
      "transforming: HP743_7S_250x\n",
      "transforming: HP743_6S_250xXY\n",
      "transforming: HP743_2S_250x\n",
      "transforming: HP743_4S_250xY\n",
      "transforming: HP743_6S_250xX\n",
      "transforming: HP743_1S_250xX\n",
      "transforming: HP743_1S_250x\n",
      "transforming: HP743_11S_250xX\n",
      "transforming: HP743_7S_250xY\n",
      "transforming: HP743_1S_250xY\n",
      "transforming: HP743_11S_250xXY\n",
      "transforming: HP743_2S_250xXY\n",
      "transforming: HP743_6S_250x\n",
      "transforming: HP743_12S_250xX\n",
      "transforming: HP743_12S_250xXY\n",
      "transforming: HP743_12S_250x\n",
      "transforming: HP743_3S_250xX\n",
      "transforming: HP743_8S_250xY\n",
      "transforming: HP743_11S_250x\n",
      "transforming: HP743_12S_250xY\n"
     ]
    }
   ],
   "source": [
    "files = os.listdir(IMPORT_DIR) #Loading in image names\n",
    "create_dir(EXPORT_DIR)         #Creating directory for new images if not yet created\n",
    "create_dir('temp')\n",
    "temp_img_names = []\n",
    "for f in files:\n",
    "    if f.split('.')[0] != 'geometric' and f.split('.')[0] != 'photometric': #Seperates generated folders from images to transform\n",
    "        temp_img_names.append(f.split('.')[0]) #Removes .png formatting to just have a list of the image names\n",
    "    \n",
    "for f in temp_img_names: #Loops through every image and transforms\n",
    "    if f != '': #Error handling to make sure not empty\n",
    "        print(\"transforming: \" + f)\n",
    "        flip_and_save(f, True, True, IMPORT_DIR, 'temp', save=True) #Mirrors Across Horizontal and Vertical Axis\n",
    "        flip_and_save(f, False, True, IMPORT_DIR, 'temp', save=True) #Mirrors Across Vertical Axis\n",
    "        flip_and_save(f, True, False, IMPORT_DIR, 'temp', save=True) #Mirrors Across Horizontal Axis\n",
    "        flip_and_save(f, False, False, IMPORT_DIR, 'temp', save=True) #Non-Augmented\n",
    "\n",
    "\n",
    "files = os.listdir('temp') #Loading in image names\n",
    "img_names = []\n",
    "for f in files:\n",
    "    if f.split('.')[0] != 'geometric' and f.split('.')[0] != 'photometric': #Seperates generated folders from images to transform\n",
    "        img_names.append(f.split('.')[0]) #Removes .png formatting to just have a list of the image names\n",
    "\n",
    "for f in img_names:\n",
    "    if f != '':\n",
    "        print(\"transforming: \" + f)\n",
    "        color_and_save(f, 0.6, 'temp', EXPORT_DIR)\n",
    "        color_and_save(f, 1, 'temp', EXPORT_DIR)\n",
    "        color_and_save(f, 1.4, 'temp', EXPORT_DIR)\n",
    "        \n",
    "temp_dir = os.listdir('temp') #Identifies all temp images\n",
    "for i in temp_dir:\n",
    "    os.remove('temp/' + i) #removes all temp images\n",
    "os.rmdir('temp') #removes temp dir"
   ]
  },
  {
   "cell_type": "code",
   "execution_count": 41,
   "metadata": {},
   "outputs": [],
   "source": []
  }
 ],
 "metadata": {
  "kernelspec": {
   "display_name": "Python 3",
   "language": "python",
   "name": "python3"
  },
  "language_info": {
   "codemirror_mode": {
    "name": "ipython",
    "version": 3
   },
   "file_extension": ".py",
   "mimetype": "text/x-python",
   "name": "python",
   "nbconvert_exporter": "python",
   "pygments_lexer": "ipython3",
   "version": "3.8.5"
  }
 },
 "nbformat": 4,
 "nbformat_minor": 4
}
